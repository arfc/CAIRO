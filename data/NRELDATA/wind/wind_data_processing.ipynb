{
 "cells": [
  {
   "cell_type": "markdown",
   "metadata": {},
   "source": [
    "# Processes the Accumulated Wind Data for Several Places\n",
    "\n",
    "The data was downloaded from the NREL Wind Integration National Database (WIND) Toolkit"
   ]
  },
  {
   "cell_type": "code",
   "execution_count": 1,
   "metadata": {},
   "outputs": [],
   "source": [
    "import numpy as np\n",
    "import matplotlib.pyplot as plt\n",
    "import pandas as pd\n",
    "import glob\n",
    "import os"
   ]
  },
  {
   "cell_type": "code",
   "execution_count": 2,
   "metadata": {},
   "outputs": [],
   "source": [
    "# the list of locations\n",
    "\n",
    "wind_locations = ['san_bernadino',\n",
    "                  'santa_fe',\n",
    "                  'dallas', \n",
    "                  'lincoln',\n",
    "                  'mansfield',\n",
    "                  'syracuse']\n",
    "\n",
    "solar_locations = ['san_bernadino',\n",
    "                  'santa_fe',\n",
    "                  'dallas', \n",
    "                  'champaign',\n",
    "                  'mansfield',\n",
    "                  'syracuse']"
   ]
  },
  {
   "cell_type": "code",
   "execution_count": 3,
   "metadata": {},
   "outputs": [],
   "source": [
    "# get the list of files\n",
    "wind_files_location = {}\n",
    "solar_files_location = {}\n",
    "\n",
    "for loc in wind_locations:\n",
    "    files = glob.glob(\"./\"+loc+\"/*.csv\")\n",
    "    wind_files_location[loc] = files\n",
    "    \n",
    "for i in wind_files_location.values():\n",
    "    i.sort()"
   ]
  },
  {
   "cell_type": "code",
   "execution_count": 4,
   "metadata": {},
   "outputs": [
    {
     "data": {
      "text/plain": [
       "{'san_bernadino': ['./san_bernadino/321568_34.89_-117.04_2007.csv',\n",
       "  './san_bernadino/321568_34.89_-117.04_2008.csv',\n",
       "  './san_bernadino/321568_34.89_-117.04_2009.csv',\n",
       "  './san_bernadino/321568_34.89_-117.04_2010.csv',\n",
       "  './san_bernadino/321568_34.89_-117.04_2011.csv',\n",
       "  './san_bernadino/321568_34.89_-117.04_2012.csv'],\n",
       " 'santa_fe': ['./santa_fe/793363_35.68_-105.91_2007.csv',\n",
       "  './santa_fe/793363_35.68_-105.91_2008.csv',\n",
       "  './santa_fe/793363_35.68_-105.91_2009.csv',\n",
       "  './santa_fe/793363_35.68_-105.91_2010.csv',\n",
       "  './santa_fe/793363_35.68_-105.91_2011.csv',\n",
       "  './santa_fe/793363_35.68_-105.91_2012.csv'],\n",
       " 'dallas': ['./dallas/1247689_32.79_-96.79_2007.csv',\n",
       "  './dallas/1247689_32.79_-96.79_2008.csv',\n",
       "  './dallas/1247689_32.79_-96.79_2009.csv',\n",
       "  './dallas/1247689_32.79_-96.79_2010.csv',\n",
       "  './dallas/1247689_32.79_-96.79_2011.csv',\n",
       "  './dallas/1247689_32.79_-96.79_2012.csv'],\n",
       " 'lincoln': ['./lincoln/1629865_40.22_-89.35_2007.csv',\n",
       "  './lincoln/1629865_40.22_-89.35_2008.csv',\n",
       "  './lincoln/1629865_40.22_-89.35_2009.csv',\n",
       "  './lincoln/1629865_40.22_-89.35_2010.csv',\n",
       "  './lincoln/1629865_40.22_-89.35_2011.csv',\n",
       "  './lincoln/1629865_40.22_-89.35_2012.csv'],\n",
       " 'mansfield': ['./mansfield/1942204_40.76_-82.52_2007.csv',\n",
       "  './mansfield/1942204_40.76_-82.52_2008.csv',\n",
       "  './mansfield/1942204_40.76_-82.52_2009.csv',\n",
       "  './mansfield/1942204_40.76_-82.52_2010.csv',\n",
       "  './mansfield/1942204_40.76_-82.52_2011.csv',\n",
       "  './mansfield/1942204_40.76_-82.52_2012.csv'],\n",
       " 'syracuse': ['./syracuse/2179748_43.07_-76.17_2007.csv',\n",
       "  './syracuse/2179748_43.07_-76.17_2008.csv',\n",
       "  './syracuse/2179748_43.07_-76.17_2009.csv',\n",
       "  './syracuse/2179748_43.07_-76.17_2010.csv',\n",
       "  './syracuse/2179748_43.07_-76.17_2011.csv',\n",
       "  './syracuse/2179748_43.07_-76.17_2012.csv']}"
      ]
     },
     "execution_count": 4,
     "metadata": {},
     "output_type": "execute_result"
    }
   ],
   "source": [
    "wind_files_location"
   ]
  },
  {
   "cell_type": "code",
   "execution_count": 6,
   "metadata": {},
   "outputs": [
    {
     "name": "stdout",
     "output_type": "stream",
     "text": [
      "Description of data for San_bernadino\n",
      "       wind speed at 100m (m/s)  air temperature at 100m (C)\n",
      "count             631296.000000                631296.000000\n",
      "mean                   6.348973                    18.521221\n",
      "std                    4.068911                     8.758513\n",
      "min                    0.020000                    -2.700000\n",
      "25%                    3.150000                    11.380000\n",
      "50%                    5.460000                    17.790000\n",
      "75%                    9.160000                    25.550000\n",
      "max                   26.470000                    42.060000\n",
      "Description of data for Santa_fe\n",
      "       wind speed at 100m (m/s)  air temperature at 100m (C)\n",
      "count             631296.000000                631296.000000\n",
      "mean                   6.481125                     9.371302\n",
      "std                    3.921077                     8.956797\n",
      "min                    0.020000                   -23.150000\n",
      "25%                    3.270000                     1.910000\n",
      "50%                    5.970000                     9.930000\n",
      "75%                    9.210000                    17.020000\n",
      "max                   27.770000                    28.430000\n",
      "Description of data for Dallas\n",
      "       wind speed at 100m (m/s)  air temperature at 100m (C)\n",
      "count             631296.000000                631296.000000\n",
      "mean                   6.352682                    19.185832\n",
      "std                    3.012923                     9.757566\n",
      "min                    0.030000                   -23.150000\n",
      "25%                    4.050000                    11.840000\n",
      "50%                    6.220000                    20.270000\n",
      "75%                    8.490000                    26.730000\n",
      "max                   26.140000                    40.490000\n",
      "Description of data for Lincoln\n",
      "       wind speed at 100m (m/s)  air temperature at 100m (C)\n",
      "count             631296.000000                631296.000000\n",
      "mean                   6.940412                    11.844361\n",
      "std                    3.242788                    11.799541\n",
      "min                    0.020000                   -25.210000\n",
      "25%                    4.410000                     2.110000\n",
      "50%                    6.880000                    13.220000\n",
      "75%                    9.280000                    21.690000\n",
      "max                   39.530000                    37.780000\n",
      "Description of data for Mansfield\n",
      "       wind speed at 100m (m/s)  air temperature at 100m (C)\n",
      "count             631296.000000                631296.000000\n",
      "mean                   7.145276                     9.993185\n",
      "std                    3.394068                    11.174791\n",
      "min                    0.010000                   -23.720000\n",
      "25%                    4.570000                     0.610000\n",
      "50%                    6.840000                    11.230000\n",
      "75%                    9.460000                    19.560000\n",
      "max                   27.230000                    34.970000\n",
      "Description of data for Syracuse\n",
      "       wind speed at 100m (m/s)  air temperature at 100m (C)\n",
      "count             631296.000000                631296.000000\n",
      "mean                   6.000699                     9.392877\n",
      "std                    3.412044                    11.053535\n",
      "min                    0.030000                   -24.330000\n",
      "25%                    3.340000                     0.710000\n",
      "50%                    5.650000                    10.270000\n",
      "75%                    8.230000                    18.720000\n",
      "max                   29.630000                    34.900000\n"
     ]
    }
   ],
   "source": [
    "for loc in wind_files_location:\n",
    "#     print(loc)\n",
    "    print(f\"Description of data for {loc.capitalize()}\")\n",
    "    for i, file in enumerate(wind_files_location[loc]):\n",
    "#         print(i, file)\n",
    "        if i == 0:\n",
    "            df = pd.read_csv(file, \n",
    "                         skiprows=1,)\n",
    "            df.index = pd.to_datetime(df[['Year', 'Month', 'Day', 'Hour', 'Minute']])\n",
    "            df.drop(['Year', 'Month', 'Day', 'Hour', 'Minute'], axis=1, inplace=True)\n",
    "#             print(df.head())\n",
    "        else:\n",
    "            tmp_df = pd.read_csv(file, \n",
    "                         skiprows=1,)\n",
    "            tmp_df.index = pd.to_datetime(tmp_df[['Year', 'Month', 'Day', 'Hour', 'Minute']])\n",
    "            tmp_df.drop(['Year', 'Month', 'Day', 'Hour', 'Minute'], axis=1, inplace=True)\n",
    "#             print(tmp_df.head())\n",
    "            df = pd.concat([df, tmp_df], axis=0)\n",
    "    df.to_csv('./'+loc+'_complete.csv')\n",
    "    print(df.describe())"
   ]
  },
  {
   "cell_type": "code",
   "execution_count": null,
   "metadata": {},
   "outputs": [],
   "source": []
  }
 ],
 "metadata": {
  "kernelspec": {
   "display_name": "Python 3",
   "language": "python",
   "name": "python3"
  },
  "language_info": {
   "codemirror_mode": {
    "name": "ipython",
    "version": 3
   },
   "file_extension": ".py",
   "mimetype": "text/x-python",
   "name": "python",
   "nbconvert_exporter": "python",
   "pygments_lexer": "ipython3",
   "version": "3.7.6"
  }
 },
 "nbformat": 4,
 "nbformat_minor": 4
}
