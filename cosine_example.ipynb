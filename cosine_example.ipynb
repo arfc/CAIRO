{
 "cells": [
  {
   "cell_type": "markdown",
   "metadata": {},
   "source": [
    "# ESN Training Example: Noisy Cosine\n",
    "\n",
    "An echo state network can, impressively, predict even \"random\" noisy data. (It should be noted that this random noise is not true randomness, it's pseudorandomness based on a deterministic algorithm -- it is this algorithm that the ESN is really predicting.)\n",
    "\n",
    "We can pretend that a noisy cosine curve is some generic time series data (like electricity demand, perhaps) and the smooth cosine is some other trend that might help guide the ESN.\n",
    "\n",
    "A demonstration of the ``esn_prediction`` function is given, along with the ``grid_optimizer`` function."
   ]
  },
  {
   "cell_type": "code",
   "execution_count": 1,
   "metadata": {},
   "outputs": [],
   "source": [
    "import numpy as np\n",
    "import numpy.random as rd\n",
    "import matplotlib.pyplot as plt\n",
    "from tools import esn_prediction, MSE\n",
    "from optimizers import grid_optimizer"
   ]
  },
  {
   "cell_type": "code",
   "execution_count": 2,
   "metadata": {},
   "outputs": [],
   "source": [
    "rd.seed(85)\n",
    "N = 1000\n",
    "t = np.linspace(0,6*np.pi, N)\n",
    "noisy_cos = np.cos(t) + (2*rd.random(N)-1)/10\n",
    "smooth_cos = np.cos(t)"
   ]
  },
  {
   "cell_type": "code",
   "execution_count": 3,
   "metadata": {},
   "outputs": [
    {
     "data": {
      "image/png": "[encoded data removed]",
      "text/plain": [
       "<Figure size 432x288 with 1 Axes>"
      ]
     },
     "metadata": {
      "needs_background": "light"
     },
     "output_type": "display_data"
    }
   ],
   "source": [
    "plt.plot(t, noisy_cos, label='noisy')\n",
    "plt.plot(t, smooth_cos, label='smooth')\n",
    "plt.legend()\n",
    "plt.xlabel('domain')\n",
    "plt.ylabel('function')\n",
    "plt.show()"
   ]
  },
  {
   "cell_type": "code",
   "execution_count": 4,
   "metadata": {},
   "outputs": [],
   "source": [
    "X_in = np.concatenate([[noisy_cos, smooth_cos]], axis=1)"
   ]
  },
  {
   "cell_type": "code",
   "execution_count": 5,
   "metadata": {},
   "outputs": [],
   "source": [
    "params = {'n_reservoir':2000, \n",
    "          'sparsity':0.1, \n",
    "          'rand_seed':85, \n",
    "          'rho':0.7, \n",
    "          'noise':0.001, \n",
    "          'future':144, \n",
    "          'window':72, \n",
    "          'trainlen':800}"
   ]
  },
  {
   "cell_type": "code",
   "execution_count": null,
   "metadata": {},
   "outputs": [],
   "source": [
    "pred = esn_prediction(noisy_cos, params)"
   ]
  },
  {
   "cell_type": "code",
   "execution_count": null,
   "metadata": {},
   "outputs": [],
   "source": [
    "futureTotal = params['future']\n",
    "plt.figure(figsize=(16,9))\n",
    "plt.title(\"Noisy Cosine vs Noisy Prediction: One Input\")\n",
    "plt.xlabel(\"Domain\")\n",
    "plt.ylabel(\"Function\")\n",
    "plt.plot(t[-2*futureTotal:],\n",
    "         noisy_cos[-2*futureTotal:],\n",
    "         'b',label=\"True Data\", \n",
    "         alpha=0.7,\n",
    "         color='tab:blue')\n",
    "plt.plot(t[-futureTotal:], pred,  alpha=0.8, \n",
    "         label='ESN Prediction',\n",
    "         color='tab:red',\n",
    "         linestyle='-')\n",
    "plt.legend()"
   ]
  },
  {
   "cell_type": "code",
   "execution_count": null,
   "metadata": {},
   "outputs": [],
   "source": [
    "pred2 = esn_prediction(X_in.T, params)"
   ]
  },
  {
   "cell_type": "code",
   "execution_count": null,
   "metadata": {},
   "outputs": [],
   "source": [
    "plt.figure(figsize=(16,9))\n",
    "plt.title(\"Smooth Cosine vs Smooth Prediction\")\n",
    "plt.xlabel(\"Domain\")\n",
    "plt.ylabel(\"Function\")\n",
    "plt.plot(t[-2*futureTotal:],\n",
    "         smooth_cos[-2*futureTotal:],\n",
    "         'b',label=\"True Data\", \n",
    "         alpha=0.7,\n",
    "         color='tab:blue')\n",
    "plt.plot(t[-futureTotal:], pred2.T[1],  alpha=0.8, \n",
    "         label='ESN: two inputs',\n",
    "         color='tab:red',\n",
    "         linestyle='-')\n",
    "plt.legend()"
   ]
  },
  {
   "cell_type": "code",
   "execution_count": null,
   "metadata": {},
   "outputs": [],
   "source": [
    "plt.figure(figsize=(16,9))\n",
    "plt.xlabel(\"Domain\")\n",
    "plt.ylabel(\"Function\")\n",
    "plt.title(\"Noisy Cosine vs Noisy Prediction\")\n",
    "plt.plot(t[-2*futureTotal:],\n",
    "         noisy_cos[-2*futureTotal:],\n",
    "         'b',label=\"Normalized Data\", \n",
    "         alpha=0.7,\n",
    "         color='tab:blue')\n",
    "plt.plot(t[-futureTotal:], pred2.T[0],  alpha=0.8, \n",
    "         label='ESN: two inputs',\n",
    "         color='tab:red',\n",
    "         linestyle='-')\n",
    "plt.legend()"
   ]
  },
  {
   "cell_type": "code",
   "execution_count": null,
   "metadata": {},
   "outputs": [],
   "source": [
    "trainingLengths = np.arange(300,800,100)\n",
    "loss_one = grid_optimizer(X_in.T,\n",
    "                      params,\n",
    "                      args=['trainlen'],\n",
    "                      xset=trainingLengths,\n",
    "                      verbose=True,\n",
    "                      visualize=True)"
   ]
  },
  {
   "cell_type": "code",
   "execution_count": null,
   "metadata": {},
   "outputs": [],
   "source": [
    "reservoir_set = [1000, 1500, 2000]\n",
    "sparsity_set = [0.005, 0.01, 0.03]\n",
    "loss_two = grid_optimizer(X_in.T,\n",
    "                      params,\n",
    "                      args=['n_reservoir', 'sparsity'],\n",
    "                      xset=reservoir_set,\n",
    "                      yset=sparsity_set,\n",
    "                      verbose=True,\n",
    "                      visualize=True)"
   ]
  },
  {
   "cell_type": "code",
   "execution_count": null,
   "metadata": {},
   "outputs": [],
   "source": [
    "trainingLengths = np.arange(300,800,100)\n",
    "loss_onevar = grid_optimizer(noisy_cos,\n",
    "                      params,\n",
    "                      args=['trainlen'],\n",
    "                      xset=trainingLengths,\n",
    "                      verbose=True,\n",
    "                      visualize=True)"
   ]
  },
  {
   "cell_type": "markdown",
   "metadata": {},
   "source": [
    "### Try Plotting a 3D Surface with data, instead."
   ]
  },
  {
   "cell_type": "code",
   "execution_count": null,
   "metadata": {},
   "outputs": [],
   "source": [
    "%matplotlib inline\n",
    "from mpl_toolkits import mplot3d\n",
    "fig = plt.figure(figsize=(9,9))\n",
    "ax = plt.axes(projection='3d')\n",
    "\n",
    "\n",
    "X = reservoir_set\n",
    "Y = sparsity_set\n",
    "Z = loss_two.T.astype(float)\n",
    "\n",
    "mappable = plt.cm.ScalarMappable()\n",
    "mappable.set_array(Z)\n",
    "\n",
    "ax.plot_surface(X,Y,Z, rstride=1, cstride=1, cmap=mappable.cmap, norm=mappable.norm)\n",
    "ax.set_xlabel('Reservoir Size')\n",
    "ax.set_ylabel('Sparsity')\n",
    "ax.set_zlabel('MSE')\n",
    "\n",
    "\n",
    "cb = plt.colorbar(mappable)\n",
    "cb.set_label(label=\"Mean Squared Error\")\n",
    "fig.tight_layout()\n",
    "# ax.view_init(140, 100)"
   ]
  },
  {
   "cell_type": "code",
   "execution_count": null,
   "metadata": {},
   "outputs": [],
   "source": [
    "reservoir_set = [1000, 1500, 2000]\n",
    "sparsity_set = [0.005, 0.01, 0.03]\n",
    "loss_two = grid_optimizer(X_in.T,\n",
    "                      params,\n",
    "                      args=['n_reservoir', 'sparsity'],\n",
    "                      xset=reservoir_set,\n",
    "                      yset=sparsity_set,\n",
    "                      verbose=True,\n",
    "                      visualize='surface')"
   ]
  },
  {
   "cell_type": "code",
   "execution_count": null,
   "metadata": {},
   "outputs": [],
   "source": []
  }
 ],
 "metadata": {
  "kernelspec": {
   "display_name": "Python 3",
   "language": "python",
   "name": "python3"
  },
  "language_info": {
   "codemirror_mode": {
    "name": "ipython",
    "version": 3
   },
   "file_extension": ".py",
   "mimetype": "text/x-python",
   "name": "python",
   "nbconvert_exporter": "python",
   "pygments_lexer": "ipython3",
   "version": "3.7.6"
  }
 },
 "nbformat": 4,
 "nbformat_minor": 4
}
